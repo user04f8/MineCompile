{
 "cells": [
  {
   "cell_type": "code",
   "execution_count": 1,
   "metadata": {},
   "outputs": [],
   "source": [
    "from langcraft import *\n"
   ]
  },
  {
   "cell_type": "code",
   "execution_count": 3,
   "metadata": {},
   "outputs": [
    {
     "name": "stdout",
     "output_type": "stream",
     "text": [
      "\u001b[37mdebug: deprecated inline Fun main:a\u001b[0m\n",
      "\u001b[37mdebug: deprecated inline Fun main:b\u001b[0m\n",
      "\u001b[33mWARN: Pruning unreferenced function at $root/main/function: # UNUSED || \u001b[0m\n",
      "\u001b[37mdebug: ref graph: {}\u001b[0m\n",
      "\u001b[37mdebug: deprecated inline Fun main:b\u001b[0m\n"
     ]
    }
   ],
   "source": [
    "# global_clear()\n",
    "\n",
    "a = Fun ('a') (\n",
    "    Statement('say test'),\n",
    "    FunStatement(Fun ('b'))\n",
    ")\n",
    "b = Fun ('b') (\n",
    "    Statement('free statements here'),\n",
    "    FunStatement(Fun ('a'))\n",
    ")\n",
    "\n",
    "display_all()\n",
    "\n",
    "b = Fun('b') (\n",
    "    Statement('say hi')\n",
    ")"
   ]
  },
  {
   "cell_type": "code",
   "execution_count": 4,
   "metadata": {},
   "outputs": [
    {
     "name": "stdout",
     "output_type": "stream",
     "text": [
      "\u001b[37mdebug: deprecated inline Fun main:cow/make_cow\u001b[0m\n",
      "\u001b[37mdebug: _wrap_tokens call from (('function', '$root/main/function/cow'), ())\u001b[0m\n",
      "\u001b[37mdebug: deprecated inline Fun main:cow/x1\u001b[0m\n",
      "\u001b[37mdebug: deprecated inline Fun main:cow/x1\u001b[0m\n",
      "\u001b[37mdebug: deprecated inline Fun main:cow/x1\u001b[0m\n",
      "\u001b[37mdebug: deprecated inline Fun main:cow/x1\u001b[0m\n",
      "\u001b[37mdebug: deprecated inline Fun main:cow/x1\u001b[0m\n",
      "\u001b[37mdebug: _wrap_tokens call from (('function', '$root/main/function/cow'), ())\u001b[0m\n"
     ]
    }
   ],
   "source": [
    "# with RelativeNamespace('utils'):\n",
    "#     with Pathspace('setblock'):\n",
    "#         for block in ('white_wool', 'black_wool'):\n",
    "#             Fun(f'place_{block}') (\n",
    "#                 Statement(f'setblock ~ ~-1 ~ {block}')\n",
    "#             )\n",
    "# say = Statement('say test')\n",
    "# inner_test = Fun('inner_test') (\n",
    "#     Statement('say hi')\n",
    "# )\n",
    "# Fun('test') (\n",
    "#     inner_test,\n",
    "#     say\n",
    "# )\n",
    "\n",
    "\n",
    "with Pathspace('cow'):\n",
    "    foo = Fun('make_cow') (\n",
    "        'summon cow'\n",
    "    )\n",
    "    \n",
    "    If ('block ~ ~ ~ air') (\n",
    "        'say 1',\n",
    "        'say 2',\n",
    "        If ('entity @e[type=cow]') (\n",
    "            'say COWS',\n",
    "            foo\n",
    "        ),\n",
    "        Fun () (\n",
    "            Fun () (\n",
    "                Fun () (\n",
    "                    Fun () (\n",
    "                        foo,\n",
    "                        Fun () (\n",
    "                            'say hi'\n",
    "                        )\n",
    "                    )\n",
    "                )\n",
    "            )\n",
    "        )\n",
    "    )\n",
    "\n"
   ]
  },
  {
   "cell_type": "code",
   "execution_count": 5,
   "metadata": {},
   "outputs": [
    {
     "name": "stdout",
     "output_type": "stream",
     "text": [
      "\u001b[33mWARN: Pruning unreferenced function at $root/main/function: # UNUSED || \u001b[0m\n",
      "\u001b[33mWARN: Pruning unreferenced function at $root/main/function/cow: execute if block ~ ~ ~ air run f...\u001b[0m\n",
      "\u001b[33mWARN: Pruning unreferenced function at $root/main/function/cow/x0: say COWS  || $remove_token_sep func...\u001b[0m\n",
      "\u001b[33mWARN: Pruning unreferenced function at $root/main/function/cow/x1: say 1  || $remove_token_sep say 2  || ...\u001b[0m\n",
      "\u001b[37mdebug: ref graph: {('function', '$root/main/function/cow/x0'): {(('function', '$root/main/function/cow'), ())}, ('function', '$root/main/function/cow/x1'): {(('function', '$root/main/function/cow'), ())}}\u001b[0m\n",
      "\u001b[37mdebug: compiling <langcraft.serialize.Program object at 0x000001C1EB46F8C0>\u001b[0m\n",
      "\u001b[37mdebug: compiling <langcraft.serialize.Program object at 0x000001C1EB5C7380>\u001b[0m\n",
      "\u001b[37mdebug: compiling <langcraft.serialize.Program object at 0x000001C1EB5C4620>\u001b[0m\n",
      "\u001b[4m\u001b[1m\u001b[96mmain:cow\u001b[0m\n",
      "  # UNUSED\n",
      "  \u001b[1m\u001b[95mexecute\u001b[0m \u001b[95mif\u001b[0m \u001b[40m\u001b[92mblock ~ ~ ~ air\u001b[0m \u001b[95mrun\u001b[0m \u001b[1m\u001b[95mfunction\u001b[0m \u001b[4m\u001b[96mmain:cow/x1\u001b[0m\n",
      "\n",
      "\u001b[4m\u001b[1m\u001b[96mmain:cow/x0\u001b[0m\n",
      "  # UNUSED\n",
      "  \u001b[40m\u001b[92msay COWS\u001b[0m \u001b[30m¦\u001b[0m\n",
      "  \u001b[1m\u001b[95mfunction\u001b[0m \u001b[4m\u001b[96mmain:cow/make_cow\u001b[0m\n",
      "\n",
      "\u001b[4m\u001b[1m\u001b[96mmain:cow/x1\u001b[0m\n",
      "  # UNUSED\n",
      "  \u001b[40m\u001b[92msay 1\u001b[0m \u001b[30m¦\u001b[0m\n",
      "  \u001b[40m\u001b[92msay 2\u001b[0m \u001b[30m¦\u001b[0m\n",
      "  \u001b[1m\u001b[95mexecute\u001b[0m \u001b[95mif\u001b[0m \u001b[40m\u001b[92mentity @e[type=cow]\u001b[0m \u001b[95mrun\u001b[0m \u001b[1m\u001b[95mfunction\u001b[0m \u001b[4m\u001b[96mmain:cow/x0\u001b[0m \u001b[30m¦\u001b[0m\n",
      "  \u001b[1m\u001b[95mfunction\u001b[0m \u001b[4m\u001b[96mmain:cow/x1\u001b[0m\n",
      "\n"
     ]
    }
   ],
   "source": [
    "display_all()"
   ]
  }
 ],
 "metadata": {
  "kernelspec": {
   "display_name": "Python 3",
   "language": "python",
   "name": "python3"
  },
  "language_info": {
   "codemirror_mode": {
    "name": "ipython",
    "version": 3
   },
   "file_extension": ".py",
   "mimetype": "text/x-python",
   "name": "python",
   "nbconvert_exporter": "python",
   "pygments_lexer": "ipython3",
   "version": "3.12.3"
  }
 },
 "nbformat": 4,
 "nbformat_minor": 2
}
