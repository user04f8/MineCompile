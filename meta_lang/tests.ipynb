{
 "cells": [
  {
   "cell_type": "code",
   "execution_count": 1,
   "metadata": {},
   "outputs": [],
   "source": [
    "from function import *\n"
   ]
  },
  {
   "cell_type": "code",
   "execution_count": 2,
   "metadata": {},
   "outputs": [
    {
     "name": "stdout",
     "output_type": "stream",
     "text": [
      "./datapacks/testing/data/utils/function/28fa93c8-7ca9-49d6-a2e4-1c728f272af2.mcfunction\n",
      "execute if block ~ ~ ~ air run say hi\n",
      "\n"
     ]
    },
    {
     "data": {
      "text/plain": [
       "'./datapacks/testing/data/utils/function/28fa93c8-7ca9-49d6-a2e4-1c728f272af2.mcfunction\\nexecute if block ~ ~ ~ air run say hi\\n'"
      ]
     },
     "execution_count": 2,
     "metadata": {},
     "output_type": "execute_result"
    }
   ],
   "source": [
    "Function (\n",
    "    If (Condition('block ~ ~ ~ air')) (\n",
    "        Statement('say hi')\n",
    "    ),\n",
    "\n",
    "    namespace='utils'\n",
    ")\n",
    "\n",
    "display_all_cmds()"
   ]
  }
 ],
 "metadata": {
  "kernelspec": {
   "display_name": "Python 3",
   "language": "python",
   "name": "python3"
  },
  "language_info": {
   "codemirror_mode": {
    "name": "ipython",
    "version": 3
   },
   "file_extension": ".py",
   "mimetype": "text/x-python",
   "name": "python",
   "nbconvert_exporter": "python",
   "pygments_lexer": "ipython3",
   "version": "3.12.3"
  }
 },
 "nbformat": 4,
 "nbformat_minor": 2
}
