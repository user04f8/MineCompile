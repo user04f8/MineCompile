{
 "cells": [
  {
   "cell_type": "code",
   "execution_count": 1,
   "metadata": {},
   "outputs": [],
   "source": [
    "from function import *\n"
   ]
  },
  {
   "cell_type": "code",
   "execution_count": 2,
   "metadata": {},
   "outputs": [
    {
     "name": "stdout",
     "output_type": "stream",
     "text": [
      "./datapacks/testing/data/main/function/a.mcfunction\n",
      "say test \n",
      "function main:b\n",
      "./datapacks/testing/data/main/function/b.mcfunction\n",
      "free statements here \n",
      "function main:a\n",
      "\n"
     ]
    }
   ],
   "source": [
    "# global_clear()\n",
    "\n",
    "a = Fun ('a') (\n",
    "    Statement('say test'),\n",
    "    FunStatement(Fun ('b'))\n",
    ")\n",
    "b = Fun ('b') (\n",
    "    Statement('free statements here'),\n",
    "    FunStatement(Fun ('a'))\n",
    ")\n",
    "\n",
    "display_all_cmds()"
   ]
  },
  {
   "cell_type": "code",
   "execution_count": 3,
   "metadata": {},
   "outputs": [
    {
     "ename": "AttributeError",
     "evalue": "'Condition' object has no attribute 'always_falsy'",
     "output_type": "error",
     "traceback": [
      "\u001b[1;31m---------------------------------------------------------------------------\u001b[0m",
      "\u001b[1;31mAttributeError\u001b[0m                            Traceback (most recent call last)",
      "Cell \u001b[1;32mIn[3], line 25\u001b[0m\n\u001b[0;32m     17\u001b[0m \u001b[38;5;28;01mwith\u001b[39;00m Pathspace(\u001b[38;5;124m'\u001b[39m\u001b[38;5;124mcow\u001b[39m\u001b[38;5;124m'\u001b[39m):\n\u001b[0;32m     18\u001b[0m     foo \u001b[38;5;241m=\u001b[39m Fun(\u001b[38;5;124m'\u001b[39m\u001b[38;5;124mmake_cow\u001b[39m\u001b[38;5;124m'\u001b[39m) (\n\u001b[0;32m     19\u001b[0m         \u001b[38;5;124m'\u001b[39m\u001b[38;5;124msummon cow\u001b[39m\u001b[38;5;124m'\u001b[39m\n\u001b[0;32m     20\u001b[0m     )\n\u001b[0;32m     22\u001b[0m     If (\u001b[38;5;124m'\u001b[39m\u001b[38;5;124mblock ~ ~ ~ air\u001b[39m\u001b[38;5;124m'\u001b[39m) (\n\u001b[0;32m     23\u001b[0m         \u001b[38;5;124m'\u001b[39m\u001b[38;5;124msay 1\u001b[39m\u001b[38;5;124m'\u001b[39m,\n\u001b[0;32m     24\u001b[0m         \u001b[38;5;124m'\u001b[39m\u001b[38;5;124msay 2\u001b[39m\u001b[38;5;124m'\u001b[39m,\n\u001b[1;32m---> 25\u001b[0m         \u001b[43mIf\u001b[49m\u001b[43m \u001b[49m\u001b[43m(\u001b[49m\u001b[38;5;124;43m'\u001b[39;49m\u001b[38;5;124;43mentity @e[type=cow]\u001b[39;49m\u001b[38;5;124;43m'\u001b[39;49m\u001b[43m)\u001b[49m\u001b[43m \u001b[49m\u001b[43m(\u001b[49m\n\u001b[0;32m     26\u001b[0m \u001b[43m            \u001b[49m\u001b[38;5;124;43m'\u001b[39;49m\u001b[38;5;124;43msay COWS\u001b[39;49m\u001b[38;5;124;43m'\u001b[39;49m\u001b[43m,\u001b[49m\n\u001b[0;32m     27\u001b[0m \u001b[43m            \u001b[49m\u001b[43mfoo\u001b[49m\n\u001b[0;32m     28\u001b[0m \u001b[43m        \u001b[49m\u001b[43m)\u001b[49m,\n\u001b[0;32m     29\u001b[0m         Fun () (\n\u001b[0;32m     30\u001b[0m             Fun () (\n\u001b[0;32m     31\u001b[0m                 Fun () (\n\u001b[0;32m     32\u001b[0m                     Fun () (\n\u001b[0;32m     33\u001b[0m                         foo,\n\u001b[0;32m     34\u001b[0m                         Fun () (\n\u001b[0;32m     35\u001b[0m                             \u001b[38;5;124m'\u001b[39m\u001b[38;5;124msay hi\u001b[39m\u001b[38;5;124m'\u001b[39m\n\u001b[0;32m     36\u001b[0m                         )\n\u001b[0;32m     37\u001b[0m                     )\n\u001b[0;32m     38\u001b[0m                 )\n\u001b[0;32m     39\u001b[0m             )\n\u001b[0;32m     40\u001b[0m         )\n\u001b[0;32m     41\u001b[0m     )\n",
      "File \u001b[1;32mc:\\Users\\nbclark\\Programs\\minecraft-datapack-compiler\\meta_lang\\function\\control_flow.py:19\u001b[0m, in \u001b[0;36mIf.__call__\u001b[1;34m(self, *statements)\u001b[0m\n\u001b[0;32m     17\u001b[0m \u001b[38;5;28;01mif\u001b[39;00m \u001b[38;5;28mself\u001b[39m\u001b[38;5;241m.\u001b[39mcondition\u001b[38;5;241m.\u001b[39malways_true:\n\u001b[0;32m     18\u001b[0m     \u001b[38;5;28mself\u001b[39m\u001b[38;5;241m.\u001b[39mcmds \u001b[38;5;241m=\u001b[39m \u001b[38;5;28mself\u001b[39m\u001b[38;5;241m.\u001b[39mif_block\u001b[38;5;241m.\u001b[39mget_cmds()\n\u001b[1;32m---> 19\u001b[0m \u001b[38;5;28;01melif\u001b[39;00m \u001b[38;5;129;01mnot\u001b[39;00m \u001b[38;5;28;43mself\u001b[39;49m\u001b[38;5;241;43m.\u001b[39;49m\u001b[43mcondition\u001b[49m\u001b[38;5;241;43m.\u001b[39;49m\u001b[43malways_falsy\u001b[49m():\n\u001b[0;32m     20\u001b[0m     \u001b[38;5;28mself\u001b[39m\u001b[38;5;241m.\u001b[39mgenerate_cmd(\u001b[38;5;28mself\u001b[39m\u001b[38;5;241m.\u001b[39mcondition, \u001b[38;5;28mself\u001b[39m\u001b[38;5;241m.\u001b[39mif_block)\n\u001b[0;32m     22\u001b[0m \u001b[38;5;28;01mreturn\u001b[39;00m \u001b[38;5;28mself\u001b[39m\n",
      "\u001b[1;31mAttributeError\u001b[0m: 'Condition' object has no attribute 'always_falsy'"
     ]
    }
   ],
   "source": [
    "# with RelativeNamespace('utils'):\n",
    "#     with Pathspace('setblock'):\n",
    "#         for block in ('white_wool', 'black_wool'):\n",
    "#             Fun(f'place_{block}') (\n",
    "#                 Statement(f'setblock ~ ~-1 ~ {block}')\n",
    "#             )\n",
    "# say = Statement('say test')\n",
    "# inner_test = Fun('inner_test') (\n",
    "#     Statement('say hi')\n",
    "# )\n",
    "# Fun('test') (\n",
    "#     inner_test,\n",
    "#     say\n",
    "# )\n",
    "\n",
    "\n",
    "with Pathspace('cow'):\n",
    "    foo = Fun('make_cow') (\n",
    "        'summon cow'\n",
    "    )\n",
    "    \n",
    "    If ('block ~ ~ ~ air') (\n",
    "        'say 1',\n",
    "        'say 2',\n",
    "        If ('entity @e[type=cow]') (\n",
    "            'say COWS',\n",
    "            foo\n",
    "        ),\n",
    "        Fun () (\n",
    "            Fun () (\n",
    "                Fun () (\n",
    "                    Fun () (\n",
    "                        foo,\n",
    "                        Fun () (\n",
    "                            'say hi'\n",
    "                        )\n",
    "                    )\n",
    "                )\n",
    "            )\n",
    "        )\n",
    "    )\n",
    "\n"
   ]
  },
  {
   "cell_type": "code",
   "execution_count": null,
   "metadata": {},
   "outputs": [
    {
     "name": "stdout",
     "output_type": "stream",
     "text": [
      "./datapacks/testing/data/main/function/cow.mcfunction\n",
      "execute if block ~ ~ ~ air run function main:cow/bc0f86de-3725-47eb-99cc-1bbaedd3a6a9\n",
      "./datapacks/testing/data/main/function/cow/make_cow.mcfunction\n",
      "summon cow\n",
      "./datapacks/testing/data/main/function/cow/a2559e25-9cec-424d-b540-22084221c685.mcfunction\n",
      "say COWS\n",
      "function main:cow/make_cow\n",
      "./datapacks/testing/data/main/function/cow/9176cb84-2d72-4314-96d9-b16577187aa5.mcfunction\n",
      "say hi\n",
      "./datapacks/testing/data/main/function/cow/c2d9f2b8-ef38-4d8e-917f-502ecb9723ec.mcfunction\n",
      "function main:cow/make_cow\n",
      "function main:cow/9176cb84-2d72-4314-96d9-b16577187aa5\n",
      "./datapacks/testing/data/main/function/cow/a1a43a59-2b75-4428-9de5-917312e8b81f.mcfunction\n",
      "function main:cow/c2d9f2b8-ef38-4d8e-917f-502ecb9723ec\n",
      "./datapacks/testing/data/main/function/cow/dd9dd469-b4dd-4db3-afb4-408b199a4180.mcfunction\n",
      "function main:cow/a1a43a59-2b75-4428-9de5-917312e8b81f\n",
      "./datapacks/testing/data/main/function/cow/6fc5f8a3-fd45-4fdb-b344-d2597762ac6a.mcfunction\n",
      "function main:cow/dd9dd469-b4dd-4db3-afb4-408b199a4180\n",
      "./datapacks/testing/data/main/function/cow/bc0f86de-3725-47eb-99cc-1bbaedd3a6a9.mcfunction\n",
      "say 1\n",
      "say 2\n",
      "execute if entity @e[type=cow] run function main:cow/a2559e25-9cec-424d-b540-22084221c685\n",
      "function main:cow/6fc5f8a3-fd45-4fdb-b344-d2597762ac6a\n",
      "\n"
     ]
    }
   ],
   "source": [
    "display_all_cmds()"
   ]
  }
 ],
 "metadata": {
  "kernelspec": {
   "display_name": "Python 3",
   "language": "python",
   "name": "python3"
  },
  "language_info": {
   "codemirror_mode": {
    "name": "ipython",
    "version": 3
   },
   "file_extension": ".py",
   "mimetype": "text/x-python",
   "name": "python",
   "nbconvert_exporter": "python",
   "pygments_lexer": "ipython3",
   "version": "3.12.3"
  }
 },
 "nbformat": 4,
 "nbformat_minor": 2
}
