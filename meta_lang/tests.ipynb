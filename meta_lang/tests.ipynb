{
 "cells": [
  {
   "cell_type": "code",
   "execution_count": 1,
   "metadata": {},
   "outputs": [],
   "source": [
    "from function import *\n"
   ]
  },
  {
   "cell_type": "code",
   "execution_count": 2,
   "metadata": {},
   "outputs": [
    {
     "data": {
      "text/plain": [
       "<function.control_flow.If at 0x2d8bf40f320>"
      ]
     },
     "execution_count": 2,
     "metadata": {},
     "output_type": "execute_result"
    }
   ],
   "source": [
    "\n",
    "# with RelativeNamespace('utils'):\n",
    "#     with Pathspace('setblock'):\n",
    "#         for block in ('white_wool', 'black_wool'):\n",
    "#             Fun(f'place_{block}') (\n",
    "#                 Statement(f'setblock ~ ~-1 ~ {block}')\n",
    "#             )\n",
    "# say = Statement('say test')\n",
    "# inner_test = Fun('inner_test') (\n",
    "#     Statement('say hi')\n",
    "# )\n",
    "# Fun('test') (\n",
    "#     inner_test,\n",
    "#     say\n",
    "# )\n",
    "\n",
    "If (Condition('block ~ ~ ~ air')) (\n",
    "    Statement('say 1'),\n",
    "    Statement('say 2')\n",
    ")\n",
    "\n"
   ]
  },
  {
   "cell_type": "code",
   "execution_count": 11,
   "metadata": {},
   "outputs": [
    {
     "name": "stdout",
     "output_type": "stream",
     "text": [
      "./datapacks/testing/data//main/function.mcfunction\n",
      "execute if block ~ ~ ~ air run function main:8fc78cad-f07f-4929-ad67-b572dc788765\n",
      "./datapacks/testing/data//main/function/e9c71bfc-60b4-4c26-8b35-aafe03b5a2c9.mcfunction\n",
      "say 1\n",
      "say 2\n",
      "./datapacks/testing/data//main/function/e51eb2ff-8a18-4276-84c6-3af906e384e1.mcfunction\n",
      "say 1\n",
      "say 2\n",
      "./datapacks/testing/data//main/function/b87dc389-600f-4216-bea3-0d30288e1e64.mcfunction\n",
      "say 1\n",
      "say 2\n",
      "./datapacks/testing/data//main/function/66acb0b2-60ae-4410-a72a-560237b4d138.mcfunction\n",
      "say 1\n",
      "say 2\n",
      "./datapacks/testing/data//main/function/2f491330-e93b-431b-9245-c57260e1a7b2.mcfunction\n",
      "say 1\n",
      "say 2\n",
      "./datapacks/testing/data//main/function/f2fa60a0-a717-4212-94cc-0c61d27fb856.mcfunction\n",
      "say 1\n",
      "say 2\n",
      "./datapacks/testing/data//main/function/369bb156-78d6-4f09-8bd3-ea25d4416268.mcfunction\n",
      "say 1\n",
      "say 2\n",
      "./datapacks/testing/data//main/function/a78265ac-10b2-49bd-8e4d-5ac39fcc5133.mcfunction\n",
      "say 1\n",
      "say 2\n",
      "./datapacks/testing/data//main/function/c0b634d4-a730-46ba-b74c-78204f64960d.mcfunction\n",
      "say 1\n",
      "say 2\n",
      "./datapacks/testing/data//main/function/ec047747-627e-4f08-a807-e2a218ec4561.mcfunction\n",
      "say 1\n",
      "say 2\n",
      "./datapacks/testing/data//main/function/5a0a7188-a93f-41ca-8455-3c8ea9232454.mcfunction\n",
      "say 1\n",
      "say 2\n",
      "./datapacks/testing/data//main/function/47c819cb-d1ba-4588-9e55-2e77bd2aae7c.mcfunction\n",
      "say 1\n",
      "say 2\n",
      "./datapacks/testing/data//main/function/b7dbc6fa-106a-4c06-8169-3209b1d833e4.mcfunction\n",
      "say 1\n",
      "say 2\n",
      "./datapacks/testing/data//main/function/e790e014-b402-480b-8fa2-ace1661480f6.mcfunction\n",
      "say 1\n",
      "say 2\n",
      "./datapacks/testing/data//main/function/7056f5b8-f90f-40ba-b490-5cebf3d66c61.mcfunction\n",
      "say 1\n",
      "say 2\n",
      "./datapacks/testing/data//main/function/c3da5433-ff04-4845-a553-0c385ce2524e.mcfunction\n",
      "say 1\n",
      "say 2\n",
      "\n"
     ]
    }
   ],
   "source": [
    "display_all_cmds()"
   ]
  }
 ],
 "metadata": {
  "kernelspec": {
   "display_name": "Python 3",
   "language": "python",
   "name": "python3"
  },
  "language_info": {
   "codemirror_mode": {
    "name": "ipython",
    "version": 3
   },
   "file_extension": ".py",
   "mimetype": "text/x-python",
   "name": "python",
   "nbconvert_exporter": "python",
   "pygments_lexer": "ipython3",
   "version": "3.12.3"
  }
 },
 "nbformat": 4,
 "nbformat_minor": 2
}
