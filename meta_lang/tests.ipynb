{
 "cells": [
  {
   "cell_type": "code",
   "execution_count": 1,
   "metadata": {},
   "outputs": [],
   "source": [
    "from function import *\n"
   ]
  },
  {
   "cell_type": "code",
   "execution_count": 2,
   "metadata": {},
   "outputs": [
    {
     "data": {
      "text/plain": [
       "<function.control_flow.If at 0x272fbb48560>"
      ]
     },
     "execution_count": 2,
     "metadata": {},
     "output_type": "execute_result"
    }
   ],
   "source": [
    "\n",
    "# with RelativeNamespace('utils'):\n",
    "#     with Pathspace('setblock'):\n",
    "#         for block in ('white_wool', 'black_wool'):\n",
    "#             Fun(f'place_{block}') (\n",
    "#                 Statement(f'setblock ~ ~-1 ~ {block}')\n",
    "#             )\n",
    "# say = Statement('say test')\n",
    "# inner_test = Fun('inner_test') (\n",
    "#     Statement('say hi')\n",
    "# )\n",
    "# Fun('test') (\n",
    "#     inner_test,\n",
    "#     say\n",
    "# )\n",
    "\n",
    "If (Condition('block ~ ~ ~ air')) (\n",
    "    Statement('say 1'),\n",
    "    Statement('say 2')\n",
    ")\n",
    "\n"
   ]
  },
  {
   "cell_type": "code",
   "execution_count": 3,
   "metadata": {},
   "outputs": [
    {
     "name": "stdout",
     "output_type": "stream",
     "text": [
      "./datapacks/testing/data//main/function.mcfunction\n",
      "execute if block ~ ~ ~ air run function main:5db3f29a-04f4-4763-8b1b-2157f4eb8fde\n",
      "./datapacks/testing/data//main/function/5db3f29a-04f4-4763-8b1b-2157f4eb8fde.mcfunction\n",
      "say 1\n",
      "say 2\n",
      "\n"
     ]
    }
   ],
   "source": [
    "display_all_cmds()"
   ]
  }
 ],
 "metadata": {
  "kernelspec": {
   "display_name": "Python 3",
   "language": "python",
   "name": "python3"
  },
  "language_info": {
   "codemirror_mode": {
    "name": "ipython",
    "version": 3
   },
   "file_extension": ".py",
   "mimetype": "text/x-python",
   "name": "python",
   "nbconvert_exporter": "python",
   "pygments_lexer": "ipython3",
   "version": "3.12.3"
  }
 },
 "nbformat": 4,
 "nbformat_minor": 2
}
