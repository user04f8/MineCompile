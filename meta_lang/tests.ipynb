{
 "cells": [
  {
   "cell_type": "code",
   "execution_count": 3,
   "metadata": {},
   "outputs": [],
   "source": [
    "from function import *\n"
   ]
  },
  {
   "cell_type": "code",
   "execution_count": 4,
   "metadata": {},
   "outputs": [
    {
     "name": "stdout",
     "output_type": "stream",
     "text": [
      "./datapacks/testing/data/main/function/main.mcfunction\n",
      "say hi\n",
      "./datapacks/testing/data/utils/function/c8c14266-4b41-427f-aa66-475a0d01211e.mcfunction\n",
      "say bye\n",
      "./datapacks/testing/data//utils/function/1b92e644-5601-404b-b57a-4a3e58e884c3.mcfunction\n",
      "say bye\n",
      "\n"
     ]
    },
    {
     "data": {
      "text/plain": [
       "'./datapacks/testing/data/main/function/main.mcfunction\\nsay hi\\n./datapacks/testing/data/utils/function/c8c14266-4b41-427f-aa66-475a0d01211e.mcfunction\\nsay bye\\n./datapacks/testing/data//utils/function/1b92e644-5601-404b-b57a-4a3e58e884c3.mcfunction\\nsay bye\\n'"
      ]
     },
     "execution_count": 4,
     "metadata": {},
     "output_type": "execute_result"
    }
   ],
   "source": [
    "with Namespace('main'):\n",
    "    Statement('say hi')\n",
    "\n",
    "Function(\n",
    "    Statement('say bye'),\n",
    "\n",
    "    namespace='utils'\n",
    ")\n",
    "\n",
    "display_all_cmds()"
   ]
  }
 ],
 "metadata": {
  "kernelspec": {
   "display_name": "Python 3",
   "language": "python",
   "name": "python3"
  },
  "language_info": {
   "codemirror_mode": {
    "name": "ipython",
    "version": 3
   },
   "file_extension": ".py",
   "mimetype": "text/x-python",
   "name": "python",
   "nbconvert_exporter": "python",
   "pygments_lexer": "ipython3",
   "version": "3.12.3"
  }
 },
 "nbformat": 4,
 "nbformat_minor": 2
}
